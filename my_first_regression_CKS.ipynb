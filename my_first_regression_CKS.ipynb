{
  "nbformat": 4,
  "nbformat_minor": 0,
  "metadata": {
    "colab": {
      "name": "my_first_regression.ipynb",
      "version": "0.3.2",
      "provenance": [],
      "collapsed_sections": [],
      "include_colab_link": true
    },
    "kernelspec": {
      "name": "python3",
      "display_name": "Python 3"
    },
    "accelerator": "GPU"
  },
  "cells": [
    {
      "cell_type": "markdown",
      "metadata": {
        "id": "view-in-github",
        "colab_type": "text"
      },
      "source": [
        "<a href=\"https://colab.research.google.com/github/cshuler/CEE696_Deep/blob/master/my_first_regression_CKS.ipynb\" target=\"_parent\"><img src=\"https://colab.research.google.com/assets/colab-badge.svg\" alt=\"Open In Colab\"/></a>"
      ]
    },
    {
      "cell_type": "markdown",
      "metadata": {
        "id": "-YsYmw7eb5Ij",
        "colab_type": "text"
      },
      "source": [
        "\n",
        "\n",
        "Can we use DNN to do interpolation/regression? \n",
        "\n",
        "The objectives of this script are\n",
        "\n",
        "- to get familiar with NN model construction\n",
        "- to show DNN is not a magic or something but just a way of buiding an interpolation/regression function. Depending on our specific implementation, its performance can change dramatically.\n",
        "\n",
        "Here we will sample 32 noisy points from a function $ y = f(x) = \\sin(2\\pi x) + 5 x $ and \n",
        "\n",
        "and will construct 1-32-32-1 layers \n",
        "\n",
        "(a single input x => 32 neuron layer => 32 neuron layer => a single output y)\n",
        "\n",
        "\n",
        "Basically it is like we are constructing $W_1$, $W_2$, $W_3$ matrices to learn $f(x)$\n",
        "\n",
        "$ y = W_3W_2(W_1x) \\approx f(x)$\n",
        "\n",
        "where \n",
        "\n",
        "$x$ is a single value representing the input $x$ of the above function\n",
        "\n",
        "$W_1$ is a 32 x 1 matrix\n",
        "\n",
        "$W_2$ is a 32 x 32 matrix\n",
        "\n",
        "$W_3$ is a 1 x 32 matrix, \n",
        "\n",
        "$y$ is a single value representing the output $y$ of the function.\n",
        "\n",
        "Note that I ignored activation functions and bias variables. With activation functions, \n",
        "\n",
        "$$ y = W_3\\sigma_2(W_2\\sigma_1(W_1x))$$ \n",
        "\n",
        "\n",
        "\n"
      ]
    },
    {
      "cell_type": "code",
      "metadata": {
        "id": "315Bm5vNb6yG",
        "colab_type": "code",
        "colab": {}
      },
      "source": [
        "import numpy as np\n",
        "import tensorflow as tf\n",
        "\n",
        "from tensorflow.keras import Sequential   # layer-by-layer model construction\n",
        "from tensorflow.keras.layers import Dense # fully connected layer\n",
        "from tensorflow.nn import sigmoid, relu   # activation functions\n",
        "\n",
        "import matplotlib.pyplot as plt"
      ],
      "execution_count": 0,
      "outputs": []
    },
    {
      "cell_type": "markdown",
      "metadata": {
        "id": "SMSVzcLFD1ez",
        "colab_type": "text"
      },
      "source": [
        ""
      ]
    },
    {
      "cell_type": "code",
      "metadata": {
        "id": "F5KXTau6YF3W",
        "colab_type": "code",
        "outputId": "0120a0f8-7523-478c-edd5-b73bb4a525d6",
        "colab": {
          "base_uri": "https://localhost:8080/",
          "height": 52
        }
      },
      "source": [
        "print(\"numpy version:\", np.__version__)\n",
        "print(\"tensorflow version:\", tf.__version__)"
      ],
      "execution_count": 190,
      "outputs": [
        {
          "output_type": "stream",
          "text": [
            "numpy version: 1.16.4\n",
            "tensorflow version: 1.14.0\n"
          ],
          "name": "stdout"
        }
      ]
    },
    {
      "cell_type": "code",
      "metadata": {
        "id": "rzZPX00hdJEX",
        "colab_type": "code",
        "colab": {}
      },
      "source": [
        "# Fix the random seed for reproducibility\n",
        "np.random.seed(696007)\n",
        "tf.set_random_seed(696007)"
      ],
      "execution_count": 0,
      "outputs": []
    },
    {
      "cell_type": "markdown",
      "metadata": {
        "id": "8NiH056AXL6l",
        "colab_type": "text"
      },
      "source": [
        "Here, we sample 32 points from \n",
        "\n",
        "$$ y = \\sin(2\\pi x) + 5 x $$\n",
        "\n",
        "sine function (sin(2pi*x)) with a linear trend (5x)"
      ]
    },
    {
      "cell_type": "code",
      "metadata": {
        "colab_type": "code",
        "id": "AqSreHrlEKML",
        "colab": {}
      },
      "source": [
        "def f(x):\n",
        "    return np.sin(x*2*np.pi) + 5*x"
      ],
      "execution_count": 0,
      "outputs": []
    },
    {
      "cell_type": "code",
      "metadata": {
        "id": "RUMZEB8cELgY",
        "colab_type": "code",
        "colab": {}
      },
      "source": [
        ""
      ],
      "execution_count": 0,
      "outputs": []
    },
    {
      "cell_type": "code",
      "metadata": {
        "id": "zrijzSnSq2bu",
        "colab_type": "code",
        "colab": {}
      },
      "source": [
        "# Training set and validation set\n",
        "data = np.linspace(-1,1,3200)\n",
        "fun = f(data) + .02 * ( np.random.randn(3200)) # add measurement error\n",
        "\n",
        "val_data = np.linspace(-1,1,300)\n",
        "val_fun = f(val_data)"
      ],
      "execution_count": 0,
      "outputs": []
    },
    {
      "cell_type": "code",
      "metadata": {
        "id": "a2iCaweiq-nv",
        "colab_type": "code",
        "outputId": "ebf75f22-b87d-42fe-a283-7283fb23dbed",
        "colab": {
          "base_uri": "https://localhost:8080/",
          "height": 287
        }
      },
      "source": [
        "plt.figure()\n",
        "plt.plot(data,fun,'bo',label='observation')\n",
        "plt.plot(val_data,val_fun,'r.',label='true/validation')\n",
        "plt.legend()\n"
      ],
      "execution_count": 226,
      "outputs": [
        {
          "output_type": "execute_result",
          "data": {
            "text/plain": [
              "<matplotlib.legend.Legend at 0x7fb97a1c7c18>"
            ]
          },
          "metadata": {
            "tags": []
          },
          "execution_count": 226
        },
        {
          "output_type": "display_data",
          "data": {
            "image/png": "[encoded data removed]",
            "text/plain": [
              "<Figure size 432x288 with 1 Axes>"
            ]
          },
          "metadata": {
            "tags": []
          }
        }
      ]
    },
    {
      "cell_type": "markdown",
      "metadata": {
        "id": "r1DH-iU9fwnr",
        "colab_type": "text"
      },
      "source": [
        "***So, using these 32 noisy observations, we will perform interpolation/regression using DNN!***\n"
      ]
    },
    {
      "cell_type": "markdown",
      "metadata": {
        "id": "QzZpiiC1bx9n",
        "colab_type": "text"
      },
      "source": [
        "Below are helper functions for training progress and plotting results. We will see this later."
      ]
    },
    {
      "cell_type": "code",
      "metadata": {
        "colab_type": "code",
        "cellView": "both",
        "id": "F_KuqNDubXpX",
        "colab": {}
      },
      "source": [
        "# Display training progress by printing a vertical bar for each completed epoch\n",
        "class print_verticalbar(tf.keras.callbacks.Callback):\n",
        "    def on_epoch_end(self, epoch, logs):\n",
        "        if epoch % 10 == 0: print(':(', end='')\n",
        "    def on_train_end(self, logs):\n",
        "        print('- Done!!')\n",
        "        \n",
        "def plot_prediction(data,fun,model):\n",
        "    result = model.predict(data)\n",
        "    plt.plot(data, fun, 'bo', label='observation')\n",
        "    plt.plot(data, result, 'k+', label='DNN')\n",
        "    plt.legend()\n",
        "\n",
        "    data_curve = np.linspace(-1,1,512)\n",
        "    result_curve = model.predict(data_curve)\n",
        "\n",
        "    plt.figure()\n",
        "    plt.plot(data_curve, f(data_curve), color = 'red', label='True')\n",
        "    plt.plot(data_curve, result_curve, color = 'black', label='DNN interpolation')\n",
        "    plt.legend()\n"
      ],
      "execution_count": 0,
      "outputs": []
    },
    {
      "cell_type": "markdown",
      "metadata": {
        "id": "7AdOjquOqQuh",
        "colab_type": "text"
      },
      "source": [
        "Let's build our model. Your task is to create DNN model with input size of 1 and output size of 1 with hidden layers. You can start adding (`model.add`) a fully connected layer (`Dense`) with 32 neurons. Input size should be 1 because we are building $y = f(x)$ with a scalar $x$ and $y$. Then you can add another layer (`Dense`) of 32 neurons. Finally, you have to have output layer with 1 neuron (1 output for $y$). For activation function, `sigmoid` was used but you can use `relu`."
      ]
    },
    {
      "cell_type": "code",
      "metadata": {
        "id": "K4EgYTAPl7o2",
        "colab_type": "code",
        "colab": {}
      },
      "source": [
        "model = tf.keras.Sequential()\n",
        "model.add(Dense(32,activation='relu',input_shape=(1,)))\n",
        "model.add(Dense(100,activation='relu'))\n",
        "model.add(Dense(50,activation='relu'))\n",
        "model.add(Dense(1))\n",
        "model.compile(optimizer='sgd',loss='mse', metrics=['mse']) # We will learn this \"sgd\" optimization option later; Our loss function is mean squred error, i.e., 1/n*sum((data-predicted)**2)\n"
      ],
      "execution_count": 0,
      "outputs": []
    },
    {
      "cell_type": "markdown",
      "metadata": {
        "id": "70b-pKsWkbrS",
        "colab_type": "text"
      },
      "source": [
        "model summary and plot"
      ]
    },
    {
      "cell_type": "code",
      "metadata": {
        "id": "nYIrXLgbqVEO",
        "colab_type": "code",
        "outputId": "6a54f636-84bf-42f1-96e9-f57d1d3c3673",
        "colab": {
          "base_uri": "https://localhost:8080/",
          "height": 295
        }
      },
      "source": [
        "model.summary()"
      ],
      "execution_count": 235,
      "outputs": [
        {
          "output_type": "stream",
          "text": [
            "Model: \"sequential_17\"\n",
            "_________________________________________________________________\n",
            "Layer (type)                 Output Shape              Param #   \n",
            "=================================================================\n",
            "dense_64 (Dense)             (None, 32)                64        \n",
            "_________________________________________________________________\n",
            "dense_65 (Dense)             (None, 100)               3300      \n",
            "_________________________________________________________________\n",
            "dense_66 (Dense)             (None, 50)                5050      \n",
            "_________________________________________________________________\n",
            "dense_67 (Dense)             (None, 1)                 51        \n",
            "=================================================================\n",
            "Total params: 8,465\n",
            "Trainable params: 8,465\n",
            "Non-trainable params: 0\n",
            "_________________________________________________________________\n"
          ],
          "name": "stdout"
        }
      ]
    },
    {
      "cell_type": "code",
      "metadata": {
        "id": "-vRBEuvQkUO6",
        "colab_type": "code",
        "outputId": "780ba188-1439-4b04-82fa-2288fa1d93fb",
        "colab": {
          "base_uri": "https://localhost:8080/",
          "height": 533
        }
      },
      "source": [
        "from keras.utils.vis_utils import plot_model\n",
        "tf.keras.utils.plot_model(model ,show_shapes=True, show_layer_names=True, to_file='model_plot.png')"
      ],
      "execution_count": 236,
      "outputs": [
        {
          "output_type": "execute_result",
          "data": {
            "image/png": "[encoded data removed]",
            "text/plain": [
              "<IPython.core.display.Image object>"
            ]
          },
          "metadata": {
            "tags": []
          },
          "execution_count": 236
        }
      ]
    },
    {
      "cell_type": "code",
      "metadata": {
        "id": "91SYRwvJqjr0",
        "colab_type": "code",
        "outputId": "5a1cebe2-5deb-4e7f-e1cb-d8526a1b564e",
        "colab": {
          "base_uri": "https://localhost:8080/",
          "height": 35
        }
      },
      "source": [
        "# Since we don't have sparse data, just do overfitting using 200 iterations to see what happens. We will learn all the options later\n",
        "history = model.fit(data,fun, epochs=200, validation_data=(val_data,val_fun), batch_size = 16, verbose = 0, callbacks=[print_verticalbar()])"
      ],
      "execution_count": 237,
      "outputs": [
        {
          "output_type": "stream",
          "text": [
            ":(:(:(:(:(:(:(:(:(:(:(:(:(:(:(:(:(:(:(:(- Done!!\n"
          ],
          "name": "stdout"
        }
      ]
    },
    {
      "cell_type": "markdown",
      "metadata": {
        "id": "WXMUiQKGbDs5",
        "colab_type": "text"
      },
      "source": [
        "Plot our interpolated result"
      ]
    },
    {
      "cell_type": "code",
      "metadata": {
        "id": "osbR_ij4bBIY",
        "colab_type": "code",
        "outputId": "0521e0ef-cbca-46ab-93c4-57d421a814a1",
        "colab": {
          "base_uri": "https://localhost:8080/",
          "height": 539
        }
      },
      "source": [
        "\n",
        "result = model.predict(data)\n",
        "plt.plot(data, fun, 'bo', label='observation')\n",
        "plt.plot(data, result, 'k+', label='DNN')\n",
        "plt.legend()\n",
        "\n",
        "data_curve = np.linspace(-1,1,512)\n",
        "result_curve = model.predict(data_curve)\n",
        "\n",
        "plt.figure()\n",
        "plt.plot(data_curve, f(data_curve), color = 'red', label='True')\n",
        "plt.plot(data_curve, result_curve, color = 'black', label='DNN interpolation')\n",
        "plt.legend()"
      ],
      "execution_count": 232,
      "outputs": [
        {
          "output_type": "execute_result",
          "data": {
            "text/plain": [
              "<matplotlib.legend.Legend at 0x7fb979e55eb8>"
            ]
          },
          "metadata": {
            "tags": []
          },
          "execution_count": 232
        },
        {
          "output_type": "display_data",
          "data": {
            "image/png": "[encoded data removed]",
            "text/plain": [
              "<Figure size 432x288 with 1 Axes>"
            ]
          },
          "metadata": {
            "tags": []
          }
        },
        {
          "output_type": "display_data",
          "data": {
            "image/png": "[encoded data removed]",
            "text/plain": [
              "<Figure size 432x288 with 1 Axes>"
            ]
          },
          "metadata": {
            "tags": []
          }
        }
      ]
    },
    {
      "cell_type": "code",
      "metadata": {
        "id": "5Y7KvbhKPdpi",
        "colab_type": "code",
        "colab": {
          "base_uri": "https://localhost:8080/",
          "height": 52
        },
        "outputId": "f90a3110-ef2b-4b1f-a583-098d42500942"
      },
      "source": [
        "print(history.history.keys())\n",
        "print(\"min {}\".format(min(history.history['mean_squared_error'])))"
      ],
      "execution_count": 177,
      "outputs": [
        {
          "output_type": "stream",
          "text": [
            "dict_keys(['loss', 'mean_squared_error', 'val_loss', 'val_mean_squared_error'])\n",
            "min 0.39500612020492554\n"
          ],
          "name": "stdout"
        }
      ]
    },
    {
      "cell_type": "code",
      "metadata": {
        "id": "TLDpPXb8QhCk",
        "colab_type": "code",
        "colab": {}
      },
      "source": [
        ""
      ],
      "execution_count": 0,
      "outputs": []
    },
    {
      "cell_type": "code",
      "metadata": {
        "id": "I-uVCvEBQhE7",
        "colab_type": "code",
        "colab": {}
      },
      "source": [
        ""
      ],
      "execution_count": 0,
      "outputs": []
    },
    {
      "cell_type": "code",
      "metadata": {
        "id": "2-KrW7P1QhHN",
        "colab_type": "code",
        "colab": {}
      },
      "source": [
        ""
      ],
      "execution_count": 0,
      "outputs": []
    },
    {
      "cell_type": "code",
      "metadata": {
        "id": "Li-x6gksPdsI",
        "colab_type": "code",
        "colab": {}
      },
      "source": [
        ""
      ],
      "execution_count": 0,
      "outputs": []
    },
    {
      "cell_type": "markdown",
      "metadata": {
        "id": "aWHtkjO3ZiH1",
        "colab_type": "text"
      },
      "source": [
        "Training history visualization\n"
      ]
    },
    {
      "cell_type": "code",
      "metadata": {
        "id": "A35SsyvWZoEJ",
        "colab_type": "code",
        "outputId": "70de33fb-08cd-436b-ddbe-553a1cb0c3a9",
        "colab": {
          "base_uri": "https://localhost:8080/",
          "height": 608
        }
      },
      "source": [
        "print(history.history.keys())\n",
        "\n",
        "\n",
        "# Plot training & validation accuracy values\n",
        "plt.semilogy(history.history['mean_squared_error'])\n",
        "plt.semilogy(history.history['val_mean_squared_error'])\n",
        "plt.title('Model accuracy')\n",
        "plt.ylabel('mean_squared_error')\n",
        "plt.xlabel('Epoch')\n",
        "plt.legend(['Train', 'Validation'], loc='upper left')\n",
        "plt.show()\n",
        "\n",
        "# Plot training & validation loss values\n",
        "plt.plot(history.history['loss'])\n",
        "plt.plot(history.history['val_loss'])\n",
        "plt.title('Model loss')\n",
        "plt.ylabel('Loss')\n",
        "plt.xlabel('Epoch')\n",
        "plt.legend(['Train', 'Validation'], loc='upper left')\n"
      ],
      "execution_count": 160,
      "outputs": [
        {
          "output_type": "stream",
          "text": [
            "dict_keys(['loss', 'mean_squared_error', 'val_loss', 'val_mean_squared_error'])\n"
          ],
          "name": "stdout"
        },
        {
          "output_type": "display_data",
          "data": {
            "image/png": "[encoded data removed]",
            "text/plain": [
              "<Figure size 432x288 with 1 Axes>"
            ]
          },
          "metadata": {
            "tags": []
          }
        },
        {
          "output_type": "execute_result",
          "data": {
            "text/plain": [
              "<matplotlib.legend.Legend at 0x7fb97d12e780>"
            ]
          },
          "metadata": {
            "tags": []
          },
          "execution_count": 160
        },
        {
          "output_type": "display_data",
          "data": {
            "image/png": "[encoded data removed]",
            "text/plain": [
              "<Figure size 432x288 with 1 Axes>"
            ]
          },
          "metadata": {
            "tags": []
          }
        }
      ]
    },
    {
      "cell_type": "markdown",
      "metadata": {
        "id": "lgmJfyUdhFKy",
        "colab_type": "text"
      },
      "source": [
        "Q) So, our interporlation/regression result is somewhat disappointing. How can you improve it?\n",
        "\n",
        "\n"
      ]
    },
    {
      "cell_type": "markdown",
      "metadata": {
        "id": "UWUgzMyrawH9",
        "colab_type": "text"
      },
      "source": [
        "# Extra\n",
        "\n",
        "You can use Pandas to tabularize training progress.\n",
        "\n",
        "\n",
        "\n",
        "\n",
        "\n"
      ]
    },
    {
      "cell_type": "code",
      "metadata": {
        "id": "Lt2T31rXrnAa",
        "colab_type": "code",
        "outputId": "5f20efab-274f-4ce7-f41a-66e3db928b25",
        "colab": {
          "base_uri": "https://localhost:8080/",
          "height": 355
        }
      },
      "source": [
        "import pandas as pd\n",
        "hist = pd.DataFrame(history.history)\n",
        "hist['epoch'] = history.epoch\n",
        "hist.tail(10) # the last 10 rows"
      ],
      "execution_count": 161,
      "outputs": [
        {
          "output_type": "execute_result",
          "data": {
            "text/html": [
              "<div>\n",
              "<style scoped>\n",
              "    .dataframe tbody tr th:only-of-type {\n",
              "        vertical-align: middle;\n",
              "    }\n",
              "\n",
              "    .dataframe tbody tr th {\n",
              "        vertical-align: top;\n",
              "    }\n",
              "\n",
              "    .dataframe thead th {\n",
              "        text-align: right;\n",
              "    }\n",
              "</style>\n",
              "<table border=\"1\" class=\"dataframe\">\n",
              "  <thead>\n",
              "    <tr style=\"text-align: right;\">\n",
              "      <th></th>\n",
              "      <th>loss</th>\n",
              "      <th>mean_squared_error</th>\n",
              "      <th>val_loss</th>\n",
              "      <th>val_mean_squared_error</th>\n",
              "      <th>epoch</th>\n",
              "    </tr>\n",
              "  </thead>\n",
              "  <tbody>\n",
              "    <tr>\n",
              "      <th>490</th>\n",
              "      <td>0.081514</td>\n",
              "      <td>0.081514</td>\n",
              "      <td>0.018578</td>\n",
              "      <td>0.018578</td>\n",
              "      <td>490</td>\n",
              "    </tr>\n",
              "    <tr>\n",
              "      <th>491</th>\n",
              "      <td>0.075725</td>\n",
              "      <td>0.075725</td>\n",
              "      <td>0.013883</td>\n",
              "      <td>0.013883</td>\n",
              "      <td>491</td>\n",
              "    </tr>\n",
              "    <tr>\n",
              "      <th>492</th>\n",
              "      <td>0.072901</td>\n",
              "      <td>0.072901</td>\n",
              "      <td>0.023844</td>\n",
              "      <td>0.023844</td>\n",
              "      <td>492</td>\n",
              "    </tr>\n",
              "    <tr>\n",
              "      <th>493</th>\n",
              "      <td>0.077955</td>\n",
              "      <td>0.077955</td>\n",
              "      <td>0.014522</td>\n",
              "      <td>0.014522</td>\n",
              "      <td>493</td>\n",
              "    </tr>\n",
              "    <tr>\n",
              "      <th>494</th>\n",
              "      <td>0.076324</td>\n",
              "      <td>0.076324</td>\n",
              "      <td>0.022462</td>\n",
              "      <td>0.022462</td>\n",
              "      <td>494</td>\n",
              "    </tr>\n",
              "    <tr>\n",
              "      <th>495</th>\n",
              "      <td>0.075293</td>\n",
              "      <td>0.075293</td>\n",
              "      <td>0.013899</td>\n",
              "      <td>0.013899</td>\n",
              "      <td>495</td>\n",
              "    </tr>\n",
              "    <tr>\n",
              "      <th>496</th>\n",
              "      <td>0.071820</td>\n",
              "      <td>0.071820</td>\n",
              "      <td>0.013708</td>\n",
              "      <td>0.013708</td>\n",
              "      <td>496</td>\n",
              "    </tr>\n",
              "    <tr>\n",
              "      <th>497</th>\n",
              "      <td>0.078409</td>\n",
              "      <td>0.078409</td>\n",
              "      <td>0.031180</td>\n",
              "      <td>0.031180</td>\n",
              "      <td>497</td>\n",
              "    </tr>\n",
              "    <tr>\n",
              "      <th>498</th>\n",
              "      <td>0.071287</td>\n",
              "      <td>0.071287</td>\n",
              "      <td>0.013679</td>\n",
              "      <td>0.013679</td>\n",
              "      <td>498</td>\n",
              "    </tr>\n",
              "    <tr>\n",
              "      <th>499</th>\n",
              "      <td>0.074217</td>\n",
              "      <td>0.074217</td>\n",
              "      <td>0.029871</td>\n",
              "      <td>0.029871</td>\n",
              "      <td>499</td>\n",
              "    </tr>\n",
              "  </tbody>\n",
              "</table>\n",
              "</div>"
            ],
            "text/plain": [
              "         loss  mean_squared_error  val_loss  val_mean_squared_error  epoch\n",
              "490  0.081514            0.081514  0.018578                0.018578    490\n",
              "491  0.075725            0.075725  0.013883                0.013883    491\n",
              "492  0.072901            0.072901  0.023844                0.023844    492\n",
              "493  0.077955            0.077955  0.014522                0.014522    493\n",
              "494  0.076324            0.076324  0.022462                0.022462    494\n",
              "495  0.075293            0.075293  0.013899                0.013899    495\n",
              "496  0.071820            0.071820  0.013708                0.013708    496\n",
              "497  0.078409            0.078409  0.031180                0.031180    497\n",
              "498  0.071287            0.071287  0.013679                0.013679    498\n",
              "499  0.074217            0.074217  0.029871                0.029871    499"
            ]
          },
          "metadata": {
            "tags": []
          },
          "execution_count": 161
        }
      ]
    },
    {
      "cell_type": "markdown",
      "metadata": {
        "id": "wAiNYBl6cyGu",
        "colab_type": "text"
      },
      "source": [
        "### Do you want check RAM and CPU info on the remote machine?"
      ]
    },
    {
      "cell_type": "code",
      "metadata": {
        "id": "D9mHRtZjcelJ",
        "colab_type": "code",
        "outputId": "2f5cd5d9-2729-4131-af18-605f0237ee44",
        "colab": {
          "base_uri": "https://localhost:8080/",
          "height": 973
        }
      },
      "source": [
        "# memory\n",
        "#!free -h\n",
        "# or \n",
        "!cat /proc/cpuinfo"
      ],
      "execution_count": 91,
      "outputs": [
        {
          "output_type": "stream",
          "text": [
            "processor\t: 0\n",
            "vendor_id\t: GenuineIntel\n",
            "cpu family\t: 6\n",
            "model\t\t: 63\n",
            "model name\t: Intel(R) Xeon(R) CPU @ 2.30GHz\n",
            "stepping\t: 0\n",
            "microcode\t: 0x1\n",
            "cpu MHz\t\t: 2300.000\n",
            "cache size\t: 46080 KB\n",
            "physical id\t: 0\n",
            "siblings\t: 2\n",
            "core id\t\t: 0\n",
            "cpu cores\t: 1\n",
            "apicid\t\t: 0\n",
            "initial apicid\t: 0\n",
            "fpu\t\t: yes\n",
            "fpu_exception\t: yes\n",
            "cpuid level\t: 13\n",
            "wp\t\t: yes\n",
            "flags\t\t: fpu vme de pse tsc msr pae mce cx8 apic sep mtrr pge mca cmov pat pse36 clflush mmx fxsr sse sse2 ss ht syscall nx pdpe1gb rdtscp lm constant_tsc rep_good nopl xtopology nonstop_tsc cpuid tsc_known_freq pni pclmulqdq ssse3 fma cx16 pcid sse4_1 sse4_2 x2apic movbe popcnt aes xsave avx f16c rdrand hypervisor lahf_lm abm invpcid_single ssbd ibrs ibpb stibp fsgsbase tsc_adjust bmi1 avx2 smep bmi2 erms invpcid xsaveopt arat md_clear arch_capabilities\n",
            "bugs\t\t: cpu_meltdown spectre_v1 spectre_v2 spec_store_bypass l1tf mds swapgs\n",
            "bogomips\t: 4600.00\n",
            "clflush size\t: 64\n",
            "cache_alignment\t: 64\n",
            "address sizes\t: 46 bits physical, 48 bits virtual\n",
            "power management:\n",
            "\n",
            "processor\t: 1\n",
            "vendor_id\t: GenuineIntel\n",
            "cpu family\t: 6\n",
            "model\t\t: 63\n",
            "model name\t: Intel(R) Xeon(R) CPU @ 2.30GHz\n",
            "stepping\t: 0\n",
            "microcode\t: 0x1\n",
            "cpu MHz\t\t: 2300.000\n",
            "cache size\t: 46080 KB\n",
            "physical id\t: 0\n",
            "siblings\t: 2\n",
            "core id\t\t: 0\n",
            "cpu cores\t: 1\n",
            "apicid\t\t: 1\n",
            "initial apicid\t: 1\n",
            "fpu\t\t: yes\n",
            "fpu_exception\t: yes\n",
            "cpuid level\t: 13\n",
            "wp\t\t: yes\n",
            "flags\t\t: fpu vme de pse tsc msr pae mce cx8 apic sep mtrr pge mca cmov pat pse36 clflush mmx fxsr sse sse2 ss ht syscall nx pdpe1gb rdtscp lm constant_tsc rep_good nopl xtopology nonstop_tsc cpuid tsc_known_freq pni pclmulqdq ssse3 fma cx16 pcid sse4_1 sse4_2 x2apic movbe popcnt aes xsave avx f16c rdrand hypervisor lahf_lm abm invpcid_single ssbd ibrs ibpb stibp fsgsbase tsc_adjust bmi1 avx2 smep bmi2 erms invpcid xsaveopt arat md_clear arch_capabilities\n",
            "bugs\t\t: cpu_meltdown spectre_v1 spectre_v2 spec_store_bypass l1tf mds swapgs\n",
            "bogomips\t: 4600.00\n",
            "clflush size\t: 64\n",
            "cache_alignment\t: 64\n",
            "address sizes\t: 46 bits physical, 48 bits virtual\n",
            "power management:\n",
            "\n"
          ],
          "name": "stdout"
        }
      ]
    },
    {
      "cell_type": "code",
      "metadata": {
        "id": "h2TKGl3qcmlU",
        "colab_type": "code",
        "outputId": "033ed674-1d1a-4a39-c87d-c2cf0afaa122",
        "colab": {
          "base_uri": "https://localhost:8080/",
          "height": 944
        }
      },
      "source": [
        "# CPU \n",
        "!cat /proc/cpuinfo\n"
      ],
      "execution_count": 0,
      "outputs": [
        {
          "output_type": "stream",
          "text": [
            "processor\t: 0\n",
            "vendor_id\t: GenuineIntel\n",
            "cpu family\t: 6\n",
            "model\t\t: 63\n",
            "model name\t: Intel(R) Xeon(R) CPU @ 2.30GHz\n",
            "stepping\t: 0\n",
            "microcode\t: 0x1\n",
            "cpu MHz\t\t: 2300.000\n",
            "cache size\t: 46080 KB\n",
            "physical id\t: 0\n",
            "siblings\t: 2\n",
            "core id\t\t: 0\n",
            "cpu cores\t: 1\n",
            "apicid\t\t: 0\n",
            "initial apicid\t: 0\n",
            "fpu\t\t: yes\n",
            "fpu_exception\t: yes\n",
            "cpuid level\t: 13\n",
            "wp\t\t: yes\n",
            "flags\t\t: fpu vme de pse tsc msr pae mce cx8 apic sep mtrr pge mca cmov pat pse36 clflush mmx fxsr sse sse2 ss ht syscall nx pdpe1gb rdtscp lm constant_tsc rep_good nopl xtopology nonstop_tsc cpuid tsc_known_freq pni pclmulqdq ssse3 fma cx16 pcid sse4_1 sse4_2 x2apic movbe popcnt aes xsave avx f16c rdrand hypervisor lahf_lm abm invpcid_single ssbd ibrs ibpb stibp fsgsbase tsc_adjust bmi1 avx2 smep bmi2 erms invpcid xsaveopt arat md_clear arch_capabilities\n",
            "bugs\t\t: cpu_meltdown spectre_v1 spectre_v2 spec_store_bypass l1tf mds swapgs\n",
            "bogomips\t: 4600.00\n",
            "clflush size\t: 64\n",
            "cache_alignment\t: 64\n",
            "address sizes\t: 46 bits physical, 48 bits virtual\n",
            "power management:\n",
            "\n",
            "processor\t: 1\n",
            "vendor_id\t: GenuineIntel\n",
            "cpu family\t: 6\n",
            "model\t\t: 63\n",
            "model name\t: Intel(R) Xeon(R) CPU @ 2.30GHz\n",
            "stepping\t: 0\n",
            "microcode\t: 0x1\n",
            "cpu MHz\t\t: 2300.000\n",
            "cache size\t: 46080 KB\n",
            "physical id\t: 0\n",
            "siblings\t: 2\n",
            "core id\t\t: 0\n",
            "cpu cores\t: 1\n",
            "apicid\t\t: 1\n",
            "initial apicid\t: 1\n",
            "fpu\t\t: yes\n",
            "fpu_exception\t: yes\n",
            "cpuid level\t: 13\n",
            "wp\t\t: yes\n",
            "flags\t\t: fpu vme de pse tsc msr pae mce cx8 apic sep mtrr pge mca cmov pat pse36 clflush mmx fxsr sse sse2 ss ht syscall nx pdpe1gb rdtscp lm constant_tsc rep_good nopl xtopology nonstop_tsc cpuid tsc_known_freq pni pclmulqdq ssse3 fma cx16 pcid sse4_1 sse4_2 x2apic movbe popcnt aes xsave avx f16c rdrand hypervisor lahf_lm abm invpcid_single ssbd ibrs ibpb stibp fsgsbase tsc_adjust bmi1 avx2 smep bmi2 erms invpcid xsaveopt arat md_clear arch_capabilities\n",
            "bugs\t\t: cpu_meltdown spectre_v1 spectre_v2 spec_store_bypass l1tf mds swapgs\n",
            "bogomips\t: 4600.00\n",
            "clflush size\t: 64\n",
            "cache_alignment\t: 64\n",
            "address sizes\t: 46 bits physical, 48 bits virtual\n",
            "power management:\n",
            "\n"
          ],
          "name": "stdout"
        }
      ]
    },
    {
      "cell_type": "markdown",
      "metadata": {
        "id": "ooGn4SaQcqRn",
        "colab_type": "text"
      },
      "source": [
        "- check CPG/GPU specifications using tensorflow\n"
      ]
    },
    {
      "cell_type": "code",
      "metadata": {
        "id": "Vr9yzWNHcoTA",
        "colab_type": "code",
        "outputId": "94f6433a-c12f-400f-c970-b960f9034805",
        "colab": {
          "base_uri": "https://localhost:8080/",
          "height": 485
        }
      },
      "source": [
        "from tensorflow.python.client import device_lib\n",
        "device_lib.list_local_devices()\n"
      ],
      "execution_count": 162,
      "outputs": [
        {
          "output_type": "execute_result",
          "data": {
            "text/plain": [
              "[name: \"/device:CPU:0\"\n",
              " device_type: \"CPU\"\n",
              " memory_limit: 268435456\n",
              " locality {\n",
              " }\n",
              " incarnation: 11952356972443976113, name: \"/device:XLA_CPU:0\"\n",
              " device_type: \"XLA_CPU\"\n",
              " memory_limit: 17179869184\n",
              " locality {\n",
              " }\n",
              " incarnation: 9038816095095133414\n",
              " physical_device_desc: \"device: XLA_CPU device\", name: \"/device:XLA_GPU:0\"\n",
              " device_type: \"XLA_GPU\"\n",
              " memory_limit: 17179869184\n",
              " locality {\n",
              " }\n",
              " incarnation: 6486114244847928336\n",
              " physical_device_desc: \"device: XLA_GPU device\", name: \"/device:GPU:0\"\n",
              " device_type: \"GPU\"\n",
              " memory_limit: 11330053735\n",
              " locality {\n",
              "   bus_id: 1\n",
              "   links {\n",
              "   }\n",
              " }\n",
              " incarnation: 15230650201795677820\n",
              " physical_device_desc: \"device: 0, name: Tesla K80, pci bus id: 0000:00:04.0, compute capability: 3.7\"]"
            ]
          },
          "metadata": {
            "tags": []
          },
          "execution_count": 162
        }
      ]
    },
    {
      "cell_type": "code",
      "metadata": {
        "id": "6KUGm2t7ZqU5",
        "colab_type": "code",
        "colab": {}
      },
      "source": [
        ""
      ],
      "execution_count": 0,
      "outputs": []
    }
  ]
}